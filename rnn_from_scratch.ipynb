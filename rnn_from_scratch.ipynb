{
  "nbformat": 4,
  "nbformat_minor": 0,
  "metadata": {
    "colab": {
      "provenance": [],
      "authorship_tag": "ABX9TyNsWA+OJRsDmdXv2DfbfeIq",
      "include_colab_link": true
    },
    "kernelspec": {
      "name": "python3",
      "display_name": "Python 3"
    },
    "language_info": {
      "name": "python"
    }
  },
  "cells": [
    {
      "cell_type": "markdown",
      "metadata": {
        "id": "view-in-github",
        "colab_type": "text"
      },
      "source": [
        "<a href=\"https://colab.research.google.com/github/aarushisingh04/ml-algorithms-from-scratch/blob/main/rnn_from_scratch.ipynb\" target=\"_parent\"><img src=\"https://colab.research.google.com/assets/colab-badge.svg\" alt=\"Open In Colab\"/></a>"
      ]
    },
    {
      "cell_type": "code",
      "source": [
        "import torch\n",
        "from torch import nn.function as f\n",
        "from torch import nn"
      ],
      "metadata": {
        "id": "I_TL0Sg10Haz"
      },
      "execution_count": null,
      "outputs": []
    },
    {
      "cell_type": "code",
      "source": [
        "class VariationAutoEncoder(nn.Module):\n",
        "  def __init__(self):\n",
        "    super().__init__()\n",
        "\n",
        "  def encode(self,x):\n",
        "\n",
        "\n",
        "if __name__ == '__main__':\n",
        "  x = torch.randn(1,784) # 28x28\n",
        "  vae = VariationAutoEncoder()\n",
        "  print(vae(x).shape)"
      ],
      "metadata": {
        "id": "88SoNQeL0Rdr"
      },
      "execution_count": null,
      "outputs": []
    }
  ]
}